{
  "nbformat": 4,
  "nbformat_minor": 0,
  "metadata": {
    "colab": {
      "provenance": [],
      "include_colab_link": true
    },
    "kernelspec": {
      "name": "python3",
      "display_name": "Python 3"
    },
    "language_info": {
      "name": "python"
    }
  },
  "cells": [
    {
      "cell_type": "markdown",
      "metadata": {
        "id": "view-in-github",
        "colab_type": "text"
      },
      "source": [
        "<a href=\"https://colab.research.google.com/github/kirans123/google_colab_insideaiml/blob/main/TextAnalysis_NLTK.ipynb\" target=\"_parent\"><img src=\"https://colab.research.google.com/assets/colab-badge.svg\" alt=\"Open In Colab\"/></a>"
      ]
    },
    {
      "cell_type": "code",
      "execution_count": 1,
      "metadata": {
        "id": "mSgKAxxNteuP"
      },
      "outputs": [],
      "source": [
        "from nltk.tokenize import word_tokenize"
      ]
    },
    {
      "cell_type": "code",
      "source": [
        "text = \"I am your mentor and i will be teaching you ml and ds\""
      ],
      "metadata": {
        "id": "ZWbyglUJt5aU"
      },
      "execution_count": 2,
      "outputs": []
    },
    {
      "cell_type": "code",
      "source": [
        "import nltk\n",
        "nltk.download('punkt')"
      ],
      "metadata": {
        "colab": {
          "base_uri": "https://localhost:8080/"
        },
        "id": "aN2WiOTCuWR7",
        "outputId": "5f87ce3e-e09f-40f6-c18e-acdb75a23cbf"
      },
      "execution_count": 3,
      "outputs": [
        {
          "output_type": "stream",
          "name": "stderr",
          "text": [
            "[nltk_data] Downloading package punkt to /root/nltk_data...\n",
            "[nltk_data]   Unzipping tokenizers/punkt.zip.\n"
          ]
        },
        {
          "output_type": "execute_result",
          "data": {
            "text/plain": [
              "True"
            ]
          },
          "metadata": {},
          "execution_count": 3
        }
      ]
    },
    {
      "cell_type": "code",
      "source": [
        "word_tokenize(text)"
      ],
      "metadata": {
        "colab": {
          "base_uri": "https://localhost:8080/"
        },
        "id": "d3FO435vuJ2L",
        "outputId": "bf64fd49-2ca2-49de-cc9a-608164826927"
      },
      "execution_count": 4,
      "outputs": [
        {
          "output_type": "execute_result",
          "data": {
            "text/plain": [
              "['I',\n",
              " 'am',\n",
              " 'your',\n",
              " 'mentor',\n",
              " 'and',\n",
              " 'i',\n",
              " 'will',\n",
              " 'be',\n",
              " 'teaching',\n",
              " 'you',\n",
              " 'ml',\n",
              " 'and',\n",
              " 'ds']"
            ]
          },
          "metadata": {},
          "execution_count": 4
        }
      ]
    },
    {
      "cell_type": "code",
      "source": [
        "text = \"Hello, i will be your mentor. I want you to stay focussed and try to create the projects.\"\n"
      ],
      "metadata": {
        "id": "_Pv7ixo7uQmk"
      },
      "execution_count": 5,
      "outputs": []
    },
    {
      "cell_type": "code",
      "source": [
        "from nltk.tokenize import sent_tokenize"
      ],
      "metadata": {
        "id": "1qVsU9aouu_x"
      },
      "execution_count": 6,
      "outputs": []
    },
    {
      "cell_type": "code",
      "source": [
        "sent_tokenize(text)"
      ],
      "metadata": {
        "colab": {
          "base_uri": "https://localhost:8080/"
        },
        "id": "IbzSd1kwux_d",
        "outputId": "d734d07a-afc7-4eea-cc07-3017bf951175"
      },
      "execution_count": 7,
      "outputs": [
        {
          "output_type": "execute_result",
          "data": {
            "text/plain": [
              "['Hello, i will be your mentor.',\n",
              " 'I want you to stay focussed and try to create the projects.']"
            ]
          },
          "metadata": {},
          "execution_count": 7
        }
      ]
    },
    {
      "cell_type": "code",
      "source": [
        "text = \"I am your mentor and i will be teaching you ml and ds :) :-) \""
      ],
      "metadata": {
        "id": "Eo--sScvu0H-"
      },
      "execution_count": 14,
      "outputs": []
    },
    {
      "cell_type": "code",
      "source": [
        "word_tokenize(text)"
      ],
      "metadata": {
        "colab": {
          "base_uri": "https://localhost:8080/"
        },
        "id": "XmHcCTyfvNUZ",
        "outputId": "95fba400-ee47-4980-b9e1-d40ad7119de1"
      },
      "execution_count": null,
      "outputs": [
        {
          "output_type": "execute_result",
          "data": {
            "text/plain": [
              "['I',\n",
              " 'am',\n",
              " 'your',\n",
              " 'mentor',\n",
              " 'and',\n",
              " 'i',\n",
              " 'will',\n",
              " 'be',\n",
              " 'teaching',\n",
              " 'you',\n",
              " 'ml',\n",
              " 'and',\n",
              " 'ds',\n",
              " ':',\n",
              " ')']"
            ]
          },
          "metadata": {},
          "execution_count": 12
        }
      ]
    },
    {
      "cell_type": "code",
      "source": [
        "from nltk.tokenize  import TweetTokenizer"
      ],
      "metadata": {
        "id": "lj8mRFVyvRfK"
      },
      "execution_count": 9,
      "outputs": []
    },
    {
      "cell_type": "code",
      "source": [
        "tk = TweetTokenizer()"
      ],
      "metadata": {
        "id": "mAP625d8wja9"
      },
      "execution_count": 10,
      "outputs": []
    },
    {
      "cell_type": "code",
      "source": [
        "tk.tokenize(text)"
      ],
      "metadata": {
        "colab": {
          "base_uri": "https://localhost:8080/"
        },
        "id": "qF76d9nDwwX2",
        "outputId": "74567795-0e0c-425a-9984-d179ac0b10bf"
      },
      "execution_count": 15,
      "outputs": [
        {
          "output_type": "execute_result",
          "data": {
            "text/plain": [
              "['I',\n",
              " 'am',\n",
              " 'your',\n",
              " 'mentor',\n",
              " 'and',\n",
              " 'i',\n",
              " 'will',\n",
              " 'be',\n",
              " 'teaching',\n",
              " 'you',\n",
              " 'ml',\n",
              " 'and',\n",
              " 'ds',\n",
              " ':)',\n",
              " ':-)']"
            ]
          },
          "metadata": {},
          "execution_count": 15
        }
      ]
    },
    {
      "cell_type": "code",
      "source": [],
      "metadata": {
        "id": "InkuzGx6w05P"
      },
      "execution_count": null,
      "outputs": []
    }
  ]
}